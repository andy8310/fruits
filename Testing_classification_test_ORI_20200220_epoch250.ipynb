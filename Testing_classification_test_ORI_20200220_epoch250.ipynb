{
 "cells": [
  {
   "cell_type": "code",
   "execution_count": 1,
   "metadata": {},
   "outputs": [
    {
     "name": "stderr",
     "output_type": "stream",
     "text": [
      "Using TensorFlow backend.\n"
     ]
    },
    {
     "name": "stdout",
     "output_type": "stream",
     "text": [
      "[1]\n"
     ]
    }
   ],
   "source": [
    "from keras.models import load_model\n",
    "import cv2\n",
    "import numpy as np\n",
    "model_path = 'D:/star/GoogleNetV4_class_ORI_20191015/model_20200224_epoch250/googlenetV4_classification_ORI_20200224_epoch250_shuffle.h5'\n",
    "\n",
    "model = load_model(model_path)\n",
    "\n",
    "img=cv2.imread('D:\\\\star\\\\GoogleNetV4_class_ORI_20191015\\\\test\\\\2_Speciesmix (69)_2.jpg')\n",
    "\n",
    "img=cv2.resize(img,(299,299))\n",
    "img=img.reshape(-1, 299, 299, 3)\n",
    "predict_test = model.predict(img)\n",
    "predict = np.argmax(predict_test,axis=1)\n",
    "print(predict)\n",
    "# if predict == 1:\n",
    "#     print(\"公\")\n",
    "# elif predict == 0:\n",
    "#     print(\"母\")\n",
    "\n",
    "#print(predict_test)"
   ]
  },
  {
   "cell_type": "code",
   "execution_count": 2,
   "metadata": {},
   "outputs": [],
   "source": [
    "#將speciesmix標記轉成對應字串名稱\n",
    "def decoding(label):\n",
    "    n_label = label\n",
    "    if (label.isdigit()):\n",
    "        if (label==\"7\"):\n",
    "            n_label=\"Aedesaeg\"\n",
    "        elif (label==\"0\"):\n",
    "            n_label=\"Albopictus\"\n",
    "        elif (label==\"1\"):\n",
    "            n_label=\"Armigeres\"\n",
    "        elif (label==\"4\"):\n",
    "            n_label=\"Culextrit\"\n",
    "        elif (label==\"6\"):\n",
    "            n_label=\"Chironom\"       \n",
    "        elif (label==\"5\"):\n",
    "            n_label=\"Culexpip\"\n",
    "        elif (label==\"2\"):\n",
    "            n_label=\"Culpip\" \n",
    "        elif (label==\"3\"):\n",
    "            n_label=\"Anopheles\" \n",
    "            \n",
    "    return n_label"
   ]
  },
  {
   "cell_type": "code",
   "execution_count": 3,
   "metadata": {},
   "outputs": [
    {
     "name": "stdout",
     "output_type": "stream",
     "text": [
      "            Anopheles  Culpip  Culexpip  Chironom  Culextrit  Armigeres  \\\n",
      "Anopheles       289.0     3.0       0.0       0.0        2.0        0.0   \n",
      "Culpip            1.0   263.0       0.0       0.0        2.0        0.0   \n",
      "Culexpip          0.0     0.0     255.0       1.0        0.0        0.0   \n",
      "Chironom          0.0     0.0       0.0     266.0        0.0        0.0   \n",
      "Culextrit         1.0     6.0       1.0       1.0      479.0        5.0   \n",
      "Armigeres         0.0     0.0       2.0       0.0        4.0      307.0   \n",
      "Albopictus        0.0     0.0       0.0       0.0        0.0        0.0   \n",
      "Aedesaeg          1.0     0.0       0.0       0.0        2.0        7.0   \n",
      "\n",
      "            Albopictus  Aedesaeg  \n",
      "Anopheles          0.0       1.0  \n",
      "Culpip             0.0       1.0  \n",
      "Culexpip           0.0       0.0  \n",
      "Chironom           0.0       0.0  \n",
      "Culextrit          0.0       9.0  \n",
      "Armigeres          0.0       8.0  \n",
      "Albopictus       234.0       2.0  \n",
      "Aedesaeg           0.0     368.0  \n"
     ]
    }
   ],
   "source": [
    "import os\n",
    "import pandas as pd\n",
    "import shutil\n",
    "\n",
    "test_data='D:\\\\star\\\\GoogleNetV4_class_ORI_20191015\\\\test\\\\'\n",
    "classes=[\"Anopheles\",\"Culpip\",\"Culexpip\",\"Chironom\",\"Culextrit\",\"Armigeres\",\"Albopictus\",\"Aedesaeg\"] #預測標記\n",
    "confusion_matrix = np.zeros((8,8)) #混淆矩陣8*8大小\n",
    "for root,dirs,files in os.walk(test_data): #讀取資料夾影像\n",
    "    for f in files:\n",
    "        img=cv2.imread(os.path.join(root,f))\n",
    "        #print(os.path.join(root,f))\n",
    "        img=cv2.resize(img,(299,299))\n",
    "        img=img.reshape(-1, 299, 299, 3)\n",
    "        predict_test = model.predict(img)\n",
    "        predict = np.argmax(predict_test,axis=1)\n",
    "        \n",
    "        #if (f.split(\"_\")[0])\n",
    "#         print(f.split(\"_\")[0].isdigit()) #true-false              \n",
    "        #print(f.split(\"_\")[0].split(' ')[0])\n",
    "    \n",
    "        label=decoding(f.split(\"_\")[0].split(' ')[0])\n",
    "        \n",
    "        \n",
    "        confusion_matrix[classes.index(label)][predict[0]] += 1\n",
    "        if (label!=classes[predict[0]]):\n",
    "#             shutil.copy(os.path.join(root,f), 'D:\\\\star\\\\GoogleNetV4_sex_GYS0to255\\\\model\\\\testing_errorIMG')\n",
    "            if not (os.path.isdir('D:\\\\star\\\\GoogleNetV4_class_ORI_20191015\\\\testing_20200224_epoch250\\\\testing_err\\\\{}_{}'.format(label, classes[predict[0]]))):\n",
    "                  os.mkdir('D:\\\\star\\\\GoogleNetV4_class_ORI_20191015\\\\testing_20200224_epoch250\\\\testing_err\\\\{}_{}'.format(label, classes[predict[0]]))\n",
    "            shutil.copy(os.path.join(root,f), 'D:\\\\star\\\\GoogleNetV4_class_ORI_20191015\\\\testing_20200224_epoch250\\\\testing_err\\\\{}_{}'.format(label, classes[predict[0]]))\n",
    "\n",
    "df = pd.DataFrame(confusion_matrix)\n",
    "df.columns = [\"Anopheles\",\"Culpip\",\"Culexpip\",\"Chironom\",\"Culextrit\",\"Armigeres\",\"Albopictus\",\"Aedesaeg\"]\n",
    "df.index = [\"Anopheles\",\"Culpip\",\"Culexpip\",\"Chironom\",\"Culextrit\",\"Armigeres\",\"Albopictus\",\"Aedesaeg\"]\n",
    "print(df)\n",
    "df.to_csv('D:\\\\star\\\\GoogleNetV4_class_ORI_20191015\\\\testing_20200224_epoch250\\\\result2.csv')            \n",
    "        "
   ]
  },
  {
   "cell_type": "code",
   "execution_count": 4,
   "metadata": {},
   "outputs": [
    {
     "name": "stdout",
     "output_type": "stream",
     "text": [
      "[[0.98 0.01 0.   0.   0.01 0.   0.   0.  ]\n",
      " [0.   0.99 0.   0.   0.01 0.   0.   0.  ]\n",
      " [0.   0.   1.   0.   0.   0.   0.   0.  ]\n",
      " [0.   0.   0.   1.   0.   0.   0.   0.  ]\n",
      " [0.   0.01 0.   0.   0.95 0.01 0.   0.02]\n",
      " [0.   0.   0.01 0.   0.01 0.96 0.   0.02]\n",
      " [0.   0.   0.   0.   0.   0.   0.99 0.01]\n",
      " [0.   0.   0.   0.   0.01 0.02 0.   0.97]]\n",
      "            Anopheles  Culpip  Culexpip  Chironom  Culextrit  Armigeres  \\\n",
      "Anopheles      0.9797  0.0102    0.0000    0.0000     0.0068     0.0000   \n",
      "Culpip         0.0037  0.9850    0.0000    0.0000     0.0075     0.0000   \n",
      "Culexpip       0.0000  0.0000    0.9961    0.0039     0.0000     0.0000   \n",
      "Chironom       0.0000  0.0000    0.0000    1.0000     0.0000     0.0000   \n",
      "Culextrit      0.0020  0.0120    0.0020    0.0020     0.9542     0.0100   \n",
      "Armigeres      0.0000  0.0000    0.0062    0.0000     0.0125     0.9564   \n",
      "Albopictus     0.0000  0.0000    0.0000    0.0000     0.0000     0.0000   \n",
      "Aedesaeg       0.0026  0.0000    0.0000    0.0000     0.0053     0.0185   \n",
      "\n",
      "            Albopictus  Aedesaeg  \n",
      "Anopheles       0.0000    0.0034  \n",
      "Culpip          0.0000    0.0037  \n",
      "Culexpip        0.0000    0.0000  \n",
      "Chironom        0.0000    0.0000  \n",
      "Culextrit       0.0000    0.0179  \n",
      "Armigeres       0.0000    0.0249  \n",
      "Albopictus      0.9915    0.0085  \n",
      "Aedesaeg        0.0000    0.9735  \n"
     ]
    }
   ],
   "source": [
    "for i in range(8):\n",
    "    confusion_matrix[i]=confusion_matrix[i]/np.sum(confusion_matrix[i])\n",
    "print(np.round(confusion_matrix,2))\n",
    "\n",
    "df = pd.DataFrame(np.round(confusion_matrix,4))\n",
    "df.columns = [\"Anopheles\",\"Culpip\",\"Culexpip\",\"Chironom\",\"Culextrit\",\"Armigeres\",\"Albopictus\",\"Aedesaeg\"]\n",
    "df.index = [\"Anopheles\",\"Culpip\",\"Culexpip\",\"Chironom\",\"Culextrit\",\"Armigeres\",\"Albopictus\",\"Aedesaeg\"]\n",
    "print(df)\n",
    "df.to_csv('D:\\\\star\\\\GoogleNetV4_class_ORI_20191015\\\\testing_20200224_epoch250\\\\result.csv')"
   ]
  },
  {
   "cell_type": "code",
   "execution_count": null,
   "metadata": {},
   "outputs": [],
   "source": []
  },
  {
   "cell_type": "code",
   "execution_count": null,
   "metadata": {},
   "outputs": [],
   "source": [
    "kfold =KFold(n_splits=5, shuffle=True, random_state=7)\n",
    "tr_cvscores = []\n",
    "test_cvscores = []\n",
    "for ktrain, ktest in kfold.split(tr_img_data, tr_lbl_data):\n",
    "    #history = model.fit(x=tr_img_data[ktrain], y=tr_lbl_data[ktrain], batch_size=16, epochs=100,verbose=2,validation_split=0.2)\n",
    "    #model.save(str(times)+'_mosq-res34.h5')\n",
    "    #times=times+1\n",
    "    tr_score, tr_acc = model.evaluate(tr_img_data[ktrain],tr_lbl_data[ktrain])\n",
    "    print('Training score:', tr_score)\n",
    "    print('Training accuracy:', tr_acc)\n",
    "    tr_cvscores.append(tr_acc * 100)\n",
    "    test_score, test_acc = model.evaluate(tr_img_data[ktest],tr_lbl_data[ktest])\n",
    "    print('Test score:', test_score)\n",
    "    print('Test accuracy:', test_acc)\n",
    "    test_cvscores.append(test_acc * 100)\n",
    "print(tr_cvscores)\n",
    "print(test_cvscores)"
   ]
  }
 ],
 "metadata": {
  "kernelspec": {
   "display_name": "Python 3",
   "language": "python",
   "name": "python3"
  },
  "language_info": {
   "codemirror_mode": {
    "name": "ipython",
    "version": 3
   },
   "file_extension": ".py",
   "mimetype": "text/x-python",
   "name": "python",
   "nbconvert_exporter": "python",
   "pygments_lexer": "ipython3",
   "version": "3.7.6"
  }
 },
 "nbformat": 4,
 "nbformat_minor": 2
}
