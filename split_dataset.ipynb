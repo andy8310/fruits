{
 "cells": [
  {
   "cell_type": "markdown",
   "metadata": {},
   "source": [
    "# 產生train檔(資料夾裡只能有image檔)"
   ]
  },
  {
   "cell_type": "code",
   "execution_count": 4,
   "metadata": {
    "scrolled": true
   },
   "outputs": [
    {
     "name": "stdout",
     "output_type": "stream",
     "text": [
      "['apple  (1).jpg', 'apple  (10).jpg', 'apple  (11).jpg', 'apple  (2).jpg', 'apple  (3).jpg', 'apple  (4).jpg', 'apple  (5).jpg', 'apple  (6).jpg', 'apple  (7).jpg', 'apple  (8).jpg', 'apple  (9).jpg', 'banana (1).jpg', 'banana (2).jpg', 'banana (3).jpg', 'banana (4).jpg', 'banana (5).jpg', 'banana (6).jpg', 'banana (7).jpg', 'orange (1).jpg', 'orange (2).jpg', 'orange (3).jpg', 'orange (4).jpg', 'orange (5).jpg']\n",
      "23\n"
     ]
    }
   ],
   "source": [
    "import os\n",
    "path_name = 'D:/fruit/splite_data/image/'\n",
    "\n",
    "img_list_3=[]\n",
    "all_list_name = os.listdir(path_name)\n",
    "for x in range(len(all_list_name)):\n",
    "    img_list_3.append(all_list_name[x])\n",
    "print(img_list_3)\n",
    "print(len(img_list_3))"
   ]
  },
  {
   "cell_type": "code",
   "execution_count": null,
   "metadata": {},
   "outputs": [],
   "source": []
  },
  {
   "cell_type": "code",
   "execution_count": 10,
   "metadata": {},
   "outputs": [
    {
     "name": "stdout",
     "output_type": "stream",
     "text": [
      "D:\\fruit\\splite_data\\image\\apple  (1).jpg\n",
      "\n",
      "D:\\fruit\\splite_data\\image\\apple  (10).jpg\n",
      "\n",
      "D:\\fruit\\splite_data\\image\\apple  (11).jpg\n",
      "\n",
      "D:\\fruit\\splite_data\\image\\apple  (2).jpg\n",
      "\n",
      "D:\\fruit\\splite_data\\image\\apple  (3).jpg\n",
      "\n",
      "D:\\fruit\\splite_data\\image\\apple  (4).jpg\n",
      "\n",
      "D:\\fruit\\splite_data\\image\\apple  (5).jpg\n",
      "\n",
      "D:\\fruit\\splite_data\\image\\apple  (6).jpg\n",
      "\n",
      "D:\\fruit\\splite_data\\image\\apple  (7).jpg\n",
      "\n",
      "D:\\fruit\\splite_data\\image\\apple  (8).jpg\n",
      "\n",
      "D:\\fruit\\splite_data\\image\\apple  (9).jpg\n",
      "\n",
      "D:\\fruit\\splite_data\\image\\banana (1).jpg\n",
      "\n",
      "D:\\fruit\\splite_data\\image\\banana (2).jpg\n",
      "\n",
      "D:\\fruit\\splite_data\\image\\banana (3).jpg\n",
      "\n",
      "D:\\fruit\\splite_data\\image\\banana (4).jpg\n",
      "\n",
      "D:\\fruit\\splite_data\\image\\banana (5).jpg\n",
      "\n",
      "D:\\fruit\\splite_data\\image\\banana (6).jpg\n",
      "\n",
      "D:\\fruit\\splite_data\\image\\banana (7).jpg\n",
      "\n",
      "D:\\fruit\\splite_data\\image\\orange (1).jpg\n",
      "\n",
      "D:\\fruit\\splite_data\\image\\orange (2).jpg\n",
      "\n",
      "D:\\fruit\\splite_data\\image\\orange (3).jpg\n",
      "\n",
      "D:\\fruit\\splite_data\\image\\orange (4).jpg\n",
      "\n",
      "D:\\fruit\\splite_data\\image\\orange (5).jpg\n",
      "\n",
      "['D:\\\\fruit\\\\splite_data\\\\image\\\\apple  (1).jpg\\n', 'D:\\\\fruit\\\\splite_data\\\\image\\\\apple  (10).jpg\\n', 'D:\\\\fruit\\\\splite_data\\\\image\\\\apple  (11).jpg\\n', 'D:\\\\fruit\\\\splite_data\\\\image\\\\apple  (2).jpg\\n', 'D:\\\\fruit\\\\splite_data\\\\image\\\\apple  (3).jpg\\n', 'D:\\\\fruit\\\\splite_data\\\\image\\\\apple  (4).jpg\\n', 'D:\\\\fruit\\\\splite_data\\\\image\\\\apple  (5).jpg\\n', 'D:\\\\fruit\\\\splite_data\\\\image\\\\apple  (6).jpg\\n', 'D:\\\\fruit\\\\splite_data\\\\image\\\\apple  (7).jpg\\n', 'D:\\\\fruit\\\\splite_data\\\\image\\\\apple  (8).jpg\\n', 'D:\\\\fruit\\\\splite_data\\\\image\\\\apple  (9).jpg\\n', 'D:\\\\fruit\\\\splite_data\\\\image\\\\banana (1).jpg\\n', 'D:\\\\fruit\\\\splite_data\\\\image\\\\banana (2).jpg\\n', 'D:\\\\fruit\\\\splite_data\\\\image\\\\banana (3).jpg\\n', 'D:\\\\fruit\\\\splite_data\\\\image\\\\banana (4).jpg\\n', 'D:\\\\fruit\\\\splite_data\\\\image\\\\banana (5).jpg\\n', 'D:\\\\fruit\\\\splite_data\\\\image\\\\banana (6).jpg\\n', 'D:\\\\fruit\\\\splite_data\\\\image\\\\banana (7).jpg\\n', 'D:\\\\fruit\\\\splite_data\\\\image\\\\orange (1).jpg\\n', 'D:\\\\fruit\\\\splite_data\\\\image\\\\orange (2).jpg\\n', 'D:\\\\fruit\\\\splite_data\\\\image\\\\orange (3).jpg\\n', 'D:\\\\fruit\\\\splite_data\\\\image\\\\orange (4).jpg\\n', 'D:\\\\fruit\\\\splite_data\\\\image\\\\orange (5).jpg\\n']\n"
     ]
    }
   ],
   "source": [
    "##filepath = \"D:/darknet-master/darknet-master/build/darknet/x64/data/train.txt\"\n",
    "filepath = \"D:\\\\fruit\\\\splite_data\\\\train.txt\"\n",
    "\n",
    "img_list=[]\n",
    "fp = open(filepath, \"r\")\n",
    "line = fp.readline()\n",
    "\n",
    "## 用 while 逐行讀取檔案內容，直至檔案結尾\n",
    "while line:\n",
    "    img_list.append(line)\n",
    "    print (line)\n",
    "    line = fp.readline()\n",
    "\n",
    "fp.close()\n",
    "print (img_list)"
   ]
  },
  {
   "cell_type": "code",
   "execution_count": 6,
   "metadata": {},
   "outputs": [
    {
     "name": "stdout",
     "output_type": "stream",
     "text": [
      "23\n"
     ]
    }
   ],
   "source": [
    "print(len(img_list))"
   ]
  },
  {
   "cell_type": "markdown",
   "metadata": {},
   "source": [
    "# 打亂順序"
   ]
  },
  {
   "cell_type": "code",
   "execution_count": 11,
   "metadata": {},
   "outputs": [
    {
     "name": "stdout",
     "output_type": "stream",
     "text": [
      "['D:\\\\fruit\\\\splite_data\\\\image\\\\orange (2).jpg\\n', 'D:\\\\fruit\\\\splite_data\\\\image\\\\apple  (1).jpg\\n', 'D:\\\\fruit\\\\splite_data\\\\image\\\\orange (4).jpg\\n', 'D:\\\\fruit\\\\splite_data\\\\image\\\\banana (1).jpg\\n', 'D:\\\\fruit\\\\splite_data\\\\image\\\\orange (1).jpg\\n', 'D:\\\\fruit\\\\splite_data\\\\image\\\\banana (6).jpg\\n', 'D:\\\\fruit\\\\splite_data\\\\image\\\\apple  (8).jpg\\n', 'D:\\\\fruit\\\\splite_data\\\\image\\\\apple  (7).jpg\\n', 'D:\\\\fruit\\\\splite_data\\\\image\\\\apple  (3).jpg\\n', 'D:\\\\fruit\\\\splite_data\\\\image\\\\banana (3).jpg\\n', 'D:\\\\fruit\\\\splite_data\\\\image\\\\banana (4).jpg\\n', 'D:\\\\fruit\\\\splite_data\\\\image\\\\apple  (11).jpg\\n', 'D:\\\\fruit\\\\splite_data\\\\image\\\\apple  (4).jpg\\n', 'D:\\\\fruit\\\\splite_data\\\\image\\\\apple  (6).jpg\\n', 'D:\\\\fruit\\\\splite_data\\\\image\\\\orange (3).jpg\\n', 'D:\\\\fruit\\\\splite_data\\\\image\\\\apple  (5).jpg\\n', 'D:\\\\fruit\\\\splite_data\\\\image\\\\banana (7).jpg\\n', 'D:\\\\fruit\\\\splite_data\\\\image\\\\banana (5).jpg\\n', 'D:\\\\fruit\\\\splite_data\\\\image\\\\orange (5).jpg\\n', 'D:\\\\fruit\\\\splite_data\\\\image\\\\apple  (10).jpg\\n', 'D:\\\\fruit\\\\splite_data\\\\image\\\\apple  (9).jpg\\n', 'D:\\\\fruit\\\\splite_data\\\\image\\\\banana (2).jpg\\n', 'D:\\\\fruit\\\\splite_data\\\\image\\\\apple  (2).jpg\\n']\n"
     ]
    }
   ],
   "source": [
    "import random\n",
    "random.shuffle(img_list)\n",
    "print (img_list)"
   ]
  },
  {
   "cell_type": "markdown",
   "metadata": {},
   "source": [
    "# 把訓練集、驗證集跟測試集分割成8:1:1"
   ]
  },
  {
   "cell_type": "code",
   "execution_count": 18,
   "metadata": {},
   "outputs": [
    {
     "name": "stdout",
     "output_type": "stream",
     "text": [
      "23\n",
      "2.3 18 2 2\n"
     ]
    }
   ],
   "source": [
    "total_num = len(img_list)\n",
    "print (total_num)\n",
    "eachset = total_num/10\n",
    "training_num = round(eachset*8)\n",
    "vaildation_num = round(eachset*1)\n",
    "testing_num = round(eachset*1)\n",
    "\n",
    "print(eachset,training_num,vaildation_num,testing_num)"
   ]
  },
  {
   "cell_type": "code",
   "execution_count": 36,
   "metadata": {},
   "outputs": [
    {
     "name": "stdout",
     "output_type": "stream",
     "text": [
      "18 2 2\n"
     ]
    }
   ],
   "source": [
    "training = img_list[0:training_num]\n",
    "vaildation = img_list[training_num+1:training_num+vaildation_num+1]\n",
    "testing = img_list[-testing_num:]\n",
    "print(len(training),len(vaildation),len(testing))"
   ]
  },
  {
   "cell_type": "markdown",
   "metadata": {},
   "source": [
    "# 寫進training.txt跟testing.txt"
   ]
  },
  {
   "cell_type": "code",
   "execution_count": 30,
   "metadata": {},
   "outputs": [],
   "source": [
    "training_path = \"D:/fruit/splite_data/training.txt\"\n",
    "vaildation_path = \"D:/fruit/splite_data/vaildation.txt\"\n",
    "testing_path = \"D:/fruit/splite_data/testing.txt\"\n",
    "training_open = open(training_path,'w')\n",
    "vaildation_open = open(vaildation_path,'w')\n",
    "testing_open = open(testing_path,'w')"
   ]
  },
  {
   "cell_type": "code",
   "execution_count": 31,
   "metadata": {},
   "outputs": [],
   "source": [
    "for name in training:\n",
    "    training_open.writelines(name)\n",
    "training_open.close()\n",
    "\n",
    "for name in vaildation:\n",
    "    vaildation_open.writelines(name)\n",
    "vaildation_open.close()\n",
    "\n",
    "for name in testing:\n",
    "    testing_open.writelines(name)\n",
    "testing_open.close()"
   ]
  },
  {
   "cell_type": "markdown",
   "metadata": {},
   "source": [
    "# 使用txt檔複製影像檔"
   ]
  },
  {
   "cell_type": "code",
   "execution_count": null,
   "metadata": {},
   "outputs": [],
   "source": [
    "filepath = \"D:/fruit/splite_data/testing.txt\"\n",
    "\n",
    "img_list=[]\n",
    "fp = open(filepath, \"r\")\n",
    "line = fp.readline()\n",
    "\n",
    "## 用 while 逐行讀取檔案內容，直至檔案結尾\n",
    "while line:\n",
    "    img_list.append(line)\n",
    "    print (line)\n",
    "    line = fp.readline()\n",
    "\n",
    "fp.close()\n",
    "print (img_list)\n",
    "print(len(img_list))"
   ]
  },
  {
   "cell_type": "code",
   "execution_count": null,
   "metadata": {},
   "outputs": [],
   "source": [
    "import os\n",
    "import pandas as pd\n",
    "import shutil\n",
    "path_name = 'D:\\\\fruit\\\\splite_data\\\\image\\\\'\n",
    "\n",
    "for g in img_list:\n",
    "    copy=g.split(\".jpg\")[0]\n",
    "    print(copy)\n",
    "    for root,dirs,files in os.walk(path_name): #讀取資料夾影像\n",
    "        for f in files:\n",
    "            if (copy==f.split(\".jpg\")[0]):\n",
    "                shutil.copy(os.path.join(root,f), 'D:\\\\fruit\\\\test\\\\')              "
   ]
  },
  {
   "cell_type": "code",
   "execution_count": null,
   "metadata": {},
   "outputs": [],
   "source": []
  }
 ],
 "metadata": {
  "kernelspec": {
   "display_name": "Python 3",
   "language": "python",
   "name": "python3"
  },
  "language_info": {
   "codemirror_mode": {
    "name": "ipython",
    "version": 3
   },
   "file_extension": ".py",
   "mimetype": "text/x-python",
   "name": "python",
   "nbconvert_exporter": "python",
   "pygments_lexer": "ipython3",
   "version": "3.7.6"
  }
 },
 "nbformat": 4,
 "nbformat_minor": 2
}
